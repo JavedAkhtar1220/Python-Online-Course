{
 "cells": [
  {
   "cell_type": "code",
   "execution_count": 1,
   "metadata": {},
   "outputs": [
    {
     "name": "stdout",
     "output_type": "stream",
     "text": [
      "28\n"
     ]
    }
   ],
   "source": [
    "Math = int(input(\"Enter Math Marks : \"))\n",
    "English = int(input(\"Enter English Marks : \"))\n",
    "Urdu = int(input(\"Enter Physics Marks : \"))\n",
    "Computer = int(input(\"Enter Computer Marks : \"))\n",
    "Islamiyat = int(input(\"Enter Islamiyat Marks : \"))\n",
    "totalMarks = Math + English + Urdu + Computer + Islamiyat \n",
    "per = (totalMarks / 500) * 100\n",
    "if per >= 80:\n",
    "    print(\"Your Grade is A+\")\n",
    "elif per >= 70:\n",
    "    print(\"Your Grade is A\")\n",
    "elif per >= 60:\n",
    "    print(\"Your Grade is B\")\n",
    "elif per >= 50:\n",
    "    print(\"Your Grade is C\")\n",
    "elif per >= 40:\n",
    "    print(\"Your Grade is D\")\n",
    "else:\n",
    "    print(\"Fail\")"
   ]
  },
  {
   "cell_type": "code",
   "execution_count": 2,
   "metadata": {},
   "outputs": [
    {
     "name": "stdout",
     "output_type": "stream",
     "text": [
      "Enter Any Number : 3\n",
      "3 is Odd Number \n"
     ]
    }
   ],
   "source": [
    "num = int(input(\"Enter Any Number : \"))\n",
    "if num%2 == 0:\n",
    "    print(str(num) +  \" is Even Number \")\n",
    "else:\n",
    "    print(str(num) +\" is Odd Number \")\n"
   ]
  },
  {
   "cell_type": "code",
   "execution_count": 4,
   "metadata": {},
   "outputs": [
    {
     "name": "stdout",
     "output_type": "stream",
     "text": [
      "9\n"
     ]
    }
   ],
   "source": [
    "cities = [\"Karachi\",\"Islamabad\",\"Lahore\",\"RawalPindi\",\"Quetta\",\"Peshawar\",\"Multan\",\"Gilgit\",\"KPK\"]\n",
    "length = len(cities) \n",
    "print(length)"
   ]
  },
  {
   "cell_type": "code",
   "execution_count": 5,
   "metadata": {},
   "outputs": [
    {
     "name": "stdout",
     "output_type": "stream",
     "text": [
      "45\n"
     ]
    }
   ],
   "source": [
    "num = [1,2,3,4,5,6,7,8,9]\n",
    "add = sum(num)\n",
    "print(add)"
   ]
  },
  {
   "cell_type": "code",
   "execution_count": 8,
   "metadata": {},
   "outputs": [
    {
     "name": "stdout",
     "output_type": "stream",
     "text": [
      "9\n"
     ]
    }
   ],
   "source": [
    "num = [1,2,3,4,5,6,7,8,9]\n",
    "greaterNumber = max(num)\n",
    "print(greaterNumber)"
   ]
  },
  {
   "cell_type": "code",
   "execution_count": 12,
   "metadata": {},
   "outputs": [
    {
     "name": "stdout",
     "output_type": "stream",
     "text": [
      "[1, 1, 2, 3]\n"
     ]
    }
   ],
   "source": [
    "a = [1, 1, 2, 3, 5, 8, 13, 21, 34, 55, 89]\n",
    "newList = []\n",
    "for num in a:\n",
    "    if num < 5:\n",
    "        newList.append(num)\n",
    "print(newList)\n"
   ]
  },
  {
   "cell_type": "code",
   "execution_count": null,
   "metadata": {},
   "outputs": [],
   "source": []
  }
 ],
 "metadata": {
  "kernelspec": {
   "display_name": "Python 3",
   "language": "python",
   "name": "python3"
  },
  "language_info": {
   "codemirror_mode": {
    "name": "ipython",
    "version": 3
   },
   "file_extension": ".py",
   "mimetype": "text/x-python",
   "name": "python",
   "nbconvert_exporter": "python",
   "pygments_lexer": "ipython3",
   "version": "3.7.4"
  }
 },
 "nbformat": 4,
 "nbformat_minor": 2
}
