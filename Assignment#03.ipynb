{
 "cells": [
  {
   "cell_type": "code",
   "execution_count": 6,
   "metadata": {},
   "outputs": [
    {
     "name": "stdout",
     "output_type": "stream",
     "text": [
      "Enter first Number : 2\n",
      "Enter Operator : ^\n",
      "Enter second Number : 6\n",
      "64\n"
     ]
    }
   ],
   "source": [
    "num1 = int(input(\"Enter first Number : \"))\n",
    "operator = input(\"Enter Operator : \")\n",
    "num2 = int(input(\"Enter second Number : \"))\n",
    "if operator == \"+\":\n",
    "    print(num1 + num2)\n",
    "elif operator == \"-\":\n",
    "    print(num1-num2)\n",
    "elif operator == \"*\":\n",
    "    print(num1*num2)\n",
    "elif operator == \"/\":\n",
    "    print(num1/num2)\n",
    "elif operator == \"^\":\n",
    "    print(pow(num1,num2))\n",
    "else:\n",
    "    print(\"Invalid Operator\")"
   ]
  },
  {
   "cell_type": "code",
   "execution_count": 32,
   "metadata": {},
   "outputs": [
    {
     "name": "stdout",
     "output_type": "stream",
     "text": [
      "9\n"
     ]
    }
   ],
   "source": [
    "arr = [\"ali\",\"ahmed\",\"hasan\",9]\n",
    "for value in arr:\n",
    "    if value == 9:\n",
    "        print(value)"
   ]
  },
  {
   "cell_type": "code",
   "execution_count": 15,
   "metadata": {},
   "outputs": [
    {
     "name": "stdout",
     "output_type": "stream",
     "text": [
      "{'first Name': 'Javed', 'Last Name': 'Akhtar', 'Class': 'BSCS', 'Roll No': 10}\n"
     ]
    }
   ],
   "source": [
    "##Script to add key\n",
    "student = {\n",
    "    \"first Name\": \"Javed\",\n",
    "    \"Last Name\": \"Akhtar\",\n",
    "    \"Class\": \"BSCS\",\n",
    "}\n",
    "student[\"Roll No\"] = 10\n",
    "print(student)"
   ]
  },
  {
   "cell_type": "code",
   "execution_count": 19,
   "metadata": {},
   "outputs": [
    {
     "name": "stdout",
     "output_type": "stream",
     "text": [
      "154\n"
     ]
    }
   ],
   "source": [
    "numbers = {\n",
    "    \"a\": 22,\n",
    "    \"b\":33,\n",
    "    \"c\":44,\n",
    "    \"d\":55,\n",
    "}\n",
    "sum = 0\n",
    "for num in numbers.values():\n",
    "    sum = sum + num\n",
    "print(sum)    \n",
    "    "
   ]
  },
  {
   "cell_type": "code",
   "execution_count": 22,
   "metadata": {},
   "outputs": [
    {
     "name": "stdout",
     "output_type": "stream",
     "text": [
      "[2, 4, 5, 3, 6, 7]\n"
     ]
    }
   ],
   "source": [
    "numbers = [ 1,2,4,5,3,2,4,6,7,9,5,2,3,4,6,7,6,3]\n",
    "dupItems = []\n",
    "uniqItems = {}\n",
    "for x in numbers:\n",
    "   if x not in uniqItems:\n",
    "      uniqItems[x] = 1\n",
    "   else:\n",
    "      if uniqItems[x] == 1:\n",
    "         dupItems.append(x)\n",
    "      uniqItems[x] += 1\n",
    "print(dupItems)"
   ]
  },
  {
   "cell_type": "code",
   "execution_count": 24,
   "metadata": {},
   "outputs": [
    {
     "name": "stdout",
     "output_type": "stream",
     "text": [
      "Key is not present in the dictionary\n"
     ]
    }
   ],
   "source": [
    "a = {1: 5, 2: 11, 3: 33, 4: 22, 5: 70, 6: 88}\n",
    "def key_exist(x):\n",
    "  if x in a:\n",
    "      print('Key is present in the dictionary')\n",
    "  else:\n",
    "      print('Key is not present in the dictionary')\n",
    "key_exist(9)\n"
   ]
  },
  {
   "cell_type": "code",
   "execution_count": null,
   "metadata": {},
   "outputs": [],
   "source": []
  }
 ],
 "metadata": {
  "kernelspec": {
   "display_name": "Python 3",
   "language": "python",
   "name": "python3"
  },
  "language_info": {
   "codemirror_mode": {
    "name": "ipython",
    "version": 3
   },
   "file_extension": ".py",
   "mimetype": "text/x-python",
   "name": "python",
   "nbconvert_exporter": "python",
   "pygments_lexer": "ipython3",
   "version": "3.7.4"
  }
 },
 "nbformat": 4,
 "nbformat_minor": 2
}
